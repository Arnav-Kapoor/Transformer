{
 "cells": [
  {
   "cell_type": "code",
   "execution_count": 8,
   "id": "e0438637-98b0-4af1-ac4b-00540d3cdd6f",
   "metadata": {},
   "outputs": [],
   "source": [
    "from tensorflow import matmul,cast,float32,math\n",
    "from tensorflow.keras.layers import Layer\n",
    "from tensorflow.keras.backend import softmax"
   ]
  },
  {
   "cell_type": "code",
   "execution_count": 9,
   "id": "5f4a1f34-5f11-4c8d-bb5b-df62b05588b6",
   "metadata": {},
   "outputs": [],
   "source": [
    "class DotProductAttention(Layer):\n",
    "    def __init__(self,**kwargs):\n",
    "        super(DotProductAttention,self).__init__(**kwargs)\n",
    "    \n",
    "    def call(self,queries,keys,values,d_k,mask=None):\n",
    "        scores=matmul(queries,keys,transpose_b=True)/math.sqrt(cast(d_k,float32))\n",
    "        \n",
    "        if mask is not None:\n",
    "            scores+= -1e9*mask\n",
    "        weights=softmax(scores)\n",
    "        \n",
    "        return matmul(weights,values)"
   ]
  },
  {
   "cell_type": "markdown",
   "id": "e4425f95-c147-48a0-a574-be3d5c6e924c",
   "metadata": {},
   "source": [
    "### testing using dummy values"
   ]
  },
  {
   "cell_type": "code",
   "execution_count": 10,
   "id": "1a726870-5c69-4cbe-bbbf-3e6c0082d4e3",
   "metadata": {
    "scrolled": true,
    "tags": []
   },
   "outputs": [
    {
     "name": "stdout",
     "output_type": "stream",
     "text": [
      "tf.Tensor(\n",
      "[[[0.43439865 0.57446873 0.5006186  ... 0.32303673 0.46497482 0.501368  ]\n",
      "  [0.44587904 0.58248234 0.46138436 ... 0.3071723  0.46704707 0.48796767]\n",
      "  [0.44831926 0.5751674  0.46460605 ... 0.31604692 0.4724028  0.48221013]\n",
      "  [0.43756688 0.57769686 0.47251344 ... 0.31773275 0.46963233 0.4862868 ]\n",
      "  [0.46419376 0.5821735  0.4840212  ... 0.30262208 0.45929372 0.5048124 ]]\n",
      "\n",
      " [[0.36041713 0.40153107 0.55443263 ... 0.60989    0.5205752  0.5911077 ]\n",
      "  [0.35975575 0.3907556  0.54939795 ... 0.6028986  0.5025436  0.61038756]\n",
      "  [0.36530334 0.40771726 0.56081146 ... 0.6109898  0.5102244  0.5901164 ]\n",
      "  [0.3749388  0.39237887 0.55807114 ... 0.6059265  0.49486136 0.60034543]\n",
      "  [0.36788118 0.38355082 0.547907   ... 0.60731846 0.52602214 0.5921198 ]]\n",
      "\n",
      " [[0.53434294 0.7053262  0.50499725 ... 0.40913734 0.5711663  0.5944548 ]\n",
      "  [0.52527404 0.70513326 0.52652967 ... 0.39810777 0.5990136  0.62535447]\n",
      "  [0.5188073  0.70701504 0.5384836  ... 0.40575576 0.6082389  0.6280854 ]\n",
      "  [0.54295874 0.7033777  0.49003422 ... 0.41702324 0.59557045 0.58780074]\n",
      "  [0.52451795 0.705801   0.5237045  ... 0.40886045 0.5874727  0.610268  ]]\n",
      "\n",
      " ...\n",
      "\n",
      " [[0.46267936 0.5844038  0.5381199  ... 0.6758814  0.32130784 0.41480637]\n",
      "  [0.4601443  0.57298106 0.5355693  ... 0.6750724  0.3147691  0.41662332]\n",
      "  [0.47838494 0.57592595 0.5431579  ... 0.6778833  0.30652618 0.42792594]\n",
      "  [0.43677047 0.5463969  0.5542675  ... 0.6843791  0.33110636 0.4109326 ]\n",
      "  [0.45292    0.5749193  0.5517547  ... 0.6597673  0.32310373 0.42013416]]\n",
      "\n",
      " [[0.3631732  0.5704819  0.5010916  ... 0.32959235 0.48052943 0.512959  ]\n",
      "  [0.36114532 0.5581768  0.49552965 ... 0.36293495 0.5001515  0.49512064]\n",
      "  [0.3640429  0.5627109  0.50907284 ... 0.3349598  0.50230986 0.5144102 ]\n",
      "  [0.36390385 0.56906825 0.4948277  ... 0.34726787 0.48726648 0.5052926 ]\n",
      "  [0.3692345  0.57958984 0.5023933  ... 0.32566318 0.4859866  0.52490115]]\n",
      "\n",
      " [[0.48891908 0.4546973  0.45499495 ... 0.5957079  0.6293759  0.48697484]\n",
      "  [0.48908588 0.454198   0.4515007  ... 0.5975375  0.63175225 0.48851413]\n",
      "  [0.5226118  0.46884415 0.4804541  ... 0.6268828  0.637502   0.5070672 ]\n",
      "  [0.4949261  0.4552802  0.4496033  ... 0.60636866 0.63825095 0.49416697]\n",
      "  [0.5156176  0.4771166  0.47215936 ... 0.6249299  0.6220035  0.49356845]]], shape=(64, 5, 64), dtype=float32)\n"
     ]
    }
   ],
   "source": [
    "\n",
    "from numpy import random\n",
    " \n",
    "input_seq_length = 5  # Maximum length of the input sequence\n",
    "d_k = 64  # Dimensionality of the linearly projected queries and keys\n",
    "d_v = 64  # Dimensionality of the linearly projected values\n",
    "batch_size = 64  # Batch size from the training process\n",
    " \n",
    "queries = random.random((batch_size, input_seq_length, d_k))\n",
    "keys = random.random((batch_size, input_seq_length, d_k))\n",
    "values = random.random((batch_size, input_seq_length, d_v))\n",
    " \n",
    "attention = DotProductAttention()\n",
    "print(attention(queries, keys, values, d_k))"
   ]
  },
  {
   "cell_type": "code",
   "execution_count": null,
   "id": "9375c1bd-3e0b-49de-b04c-5f30f6788f0d",
   "metadata": {},
   "outputs": [],
   "source": []
  }
 ],
 "metadata": {
  "kernelspec": {
   "display_name": "Python 3 (ipykernel)",
   "language": "python",
   "name": "python3"
  },
  "language_info": {
   "codemirror_mode": {
    "name": "ipython",
    "version": 3
   },
   "file_extension": ".py",
   "mimetype": "text/x-python",
   "name": "python",
   "nbconvert_exporter": "python",
   "pygments_lexer": "ipython3",
   "version": "3.10.8"
  }
 },
 "nbformat": 4,
 "nbformat_minor": 5
}
